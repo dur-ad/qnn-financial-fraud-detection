{
 "cells": [
  {
   "cell_type": "code",
   "execution_count": 1,
   "id": "2e4f71ab",
   "metadata": {},
   "outputs": [],
   "source": [
    "import pennylane as qml\n",
    "from pennylane import numpy as np\n",
    "import pandas as pd\n",
    "from sklearn.preprocessing import StandardScaler, OneHotEncoder\n",
    "from sklearn.model_selection import train_test_split\n",
    "from sklearn.metrics import accuracy_score"
   ]
  },
  {
   "cell_type": "code",
   "execution_count": 2,
   "id": "c4b065b5",
   "metadata": {},
   "outputs": [],
   "source": [
    "data = pd.read_csv('PS_20174392719_1491204439457_log.csv')\n",
    "data = data.drop(['oldbalanceOrg', 'newbalanceOrig', 'oldbalanceDest', 'newbalanceDest'], axis=1)\n",
    "\n",
    "type_encoder = OneHotEncoder(sparse_output=False)\n",
    "type_encoded = type_encoder.fit_transform(data[['type']])\n",
    "\n",
    "features = np.hstack((\n",
    "    data[['amount', 'isFlaggedFraud']].values,\n",
    "    type_encoded\n",
    "))\n",
    "\n",
    "\n",
    "labels = data['isFraud'].values.astype(float)\n",
    "\n",
    "#normalize\n",
    "scaler = StandardScaler()\n",
    "features = scaler.fit_transform(features)\n",
    "\n",
    "features = np.array(features, requires_grad=False)\n",
    "labels = np.array(labels, requires_grad=False)\n"
   ]
  },
  {
   "cell_type": "code",
   "execution_count": 3,
   "id": "e29df1c7",
   "metadata": {},
   "outputs": [],
   "source": [
    "n_qubits = 7  \n",
    "\n",
    "dev = qml.device('default.qubit', wires=n_qubits)\n"
   ]
  },
  {
   "cell_type": "code",
   "execution_count": 4,
   "id": "f9a90bb2",
   "metadata": {},
   "outputs": [],
   "source": [
    "def qnn_layer(weights):\n",
    "    for i in range(n_qubits):\n",
    "        qml.RY(weights[i], wires=i)\n",
    "    for i in range(n_qubits - 1):\n",
    "        qml.CNOT(wires=[i, i + 1])\n"
   ]
  },
  {
   "cell_type": "code",
   "execution_count": 5,
   "id": "fe8aa425",
   "metadata": {},
   "outputs": [],
   "source": [
    "def quantum_neural_network(weights, x):\n",
    "    #encode the features into quantum states\n",
    "    for i in range(len(x)):\n",
    "        qml.RX(x[i], wires=i)\n",
    "    \n",
    "    #apply variational layers\n",
    "    qnn_layer(weights[0])\n",
    "    qnn_layer(weights[1])"
   ]
  },
  {
   "cell_type": "code",
   "execution_count": 6,
   "id": "d57237fe",
   "metadata": {},
   "outputs": [],
   "source": [
    "@qml.qnode(dev)\n",
    "def circuit(weights, x):\n",
    "    quantum_neural_network(weights, x)\n",
    "    return qml.expval(qml.PauliZ(0))"
   ]
  },
  {
   "cell_type": "code",
   "execution_count": 7,
   "id": "047616db",
   "metadata": {},
   "outputs": [],
   "source": [
    "#number of layers and parameters\n",
    "num_layers = 2\n",
    "weight_shapes = {\"weights\": (num_layers, n_qubits)}\n",
    "\n",
    "@qml.qnode(dev)\n",
    "def circuit(weights, x):\n",
    "    quantum_neural_network(weights, x)\n",
    "    return qml.expval(qml.PauliZ(0))\n"
   ]
  },
  {
   "cell_type": "code",
   "execution_count": 8,
   "id": "b4cfcd44",
   "metadata": {},
   "outputs": [],
   "source": [
    "def cost(weights, X, Y):\n",
    "    predictions = [circuit(weights, x) for x in X]\n",
    "    predictions = np.array(predictions)\n",
    "    predictions = (predictions + 1) / 2  #scale predictions to [0, 1]\n",
    "    loss = np.mean(-(Y * np.log(predictions + 1e-6) + (1 - Y) * np.log(1 - predictions + 1e-6)))\n",
    "    return loss\n"
   ]
  },
  {
   "cell_type": "code",
   "execution_count": 9,
   "id": "b002775b",
   "metadata": {},
   "outputs": [],
   "source": [
    "X_train, X_test, y_train, y_test = train_test_split(features, labels, test_size=0.2, random_state=42)\n"
   ]
  },
  {
   "cell_type": "code",
   "execution_count": 10,
   "id": "72e6599d",
   "metadata": {},
   "outputs": [],
   "source": [
    "np.random.seed(42)\n",
    "weights = np.random.uniform(size=(num_layers, n_qubits), requires_grad=True)\n"
   ]
  },
  {
   "cell_type": "code",
   "execution_count": 11,
   "id": "a00b3f7a",
   "metadata": {},
   "outputs": [],
   "source": [
    "opt = qml.GradientDescentOptimizer(stepsize=0.1)\n"
   ]
  },
  {
   "cell_type": "code",
   "execution_count": null,
   "id": "92477e26",
   "metadata": {},
   "outputs": [],
   "source": [
    "epochs = 50\n",
    "\n",
    "for epoch in range(epochs):\n",
    "    weights, loss = opt.step_and_cost(lambda w: cost(w, X_train, y_train), weights)\n",
    "    print(f\"Epoch {epoch}, Loss: {loss}\")\n",
    "#     if epoch % 5 == 0:\n",
    "        \n"
   ]
  },
  {
   "cell_type": "code",
   "execution_count": null,
   "id": "3be833f5",
   "metadata": {},
   "outputs": [],
   "source": [
    "predictions = [circuit(weights, x) for x in X_test]\n",
    "predictions = np.array(predictions)\n",
    "predictions = (predictions + 1) / 2  \n",
    "predicted_labels = (predictions > 0.5).astype(int)\n"
   ]
  },
  {
   "cell_type": "code",
   "execution_count": null,
   "id": "b3088ea1",
   "metadata": {},
   "outputs": [],
   "source": [
    "accuracy = accuracy_score(y_test, predicted_labels)\n",
    "print(f\"\\nTest set accuracy: {accuracy:.2f}\")\n"
   ]
  },
  {
   "cell_type": "code",
   "execution_count": null,
   "id": "41eb2bba",
   "metadata": {},
   "outputs": [],
   "source": [
    "# on subset"
   ]
  },
  {
   "cell_type": "code",
   "execution_count": 19,
   "id": "4fae876f",
   "metadata": {},
   "outputs": [
    {
     "name": "stdout",
     "output_type": "stream",
     "text": [
      "Epoch 0, Loss: 1.0945996450214717\n",
      "Epoch 5, Loss: 0.4086709169270803\n",
      "Epoch 10, Loss: 0.22889948228547524\n",
      "Epoch 15, Loss: 0.16505991181800142\n"
     ]
    }
   ],
   "source": [
    "epochs = 20\n",
    "\n",
    "for epoch in range(epochs):\n",
    "    weights, loss = opt.step_and_cost(lambda w: cost(w, X_train, y_train), weights)\n",
    "    if epoch % 5 == 0:\n",
    "        print(f\"Epoch {epoch}, Loss: {loss}\")\n"
   ]
  },
  {
   "cell_type": "code",
   "execution_count": 20,
   "id": "f8aeda55",
   "metadata": {},
   "outputs": [],
   "source": [
    "predictions = [circuit(weights, x) for x in X_test]\n",
    "predictions = np.array(predictions)\n",
    "predictions = (predictions + 1) / 2  #scale to [0, 1]\n",
    "predicted_labels = (predictions > 0.5).astype(int)\n"
   ]
  },
  {
   "cell_type": "code",
   "execution_count": 21,
   "id": "f18c2f6b",
   "metadata": {},
   "outputs": [
    {
     "name": "stdout",
     "output_type": "stream",
     "text": [
      "\n",
      "Test set accuracy: 0.98\n"
     ]
    }
   ],
   "source": [
    "accuracy = accuracy_score(y_test, predicted_labels)\n",
    "print(f\"\\nTest set accuracy: {accuracy:.2f}\")\n"
   ]
  },
  {
   "cell_type": "code",
   "execution_count": null,
   "id": "c2684690",
   "metadata": {},
   "outputs": [],
   "source": []
  }
 ],
 "metadata": {
  "kernelspec": {
   "display_name": "Python 3 (ipykernel)",
   "language": "python",
   "name": "python3"
  },
  "language_info": {
   "codemirror_mode": {
    "name": "ipython",
    "version": 3
   },
   "file_extension": ".py",
   "mimetype": "text/x-python",
   "name": "python",
   "nbconvert_exporter": "python",
   "pygments_lexer": "ipython3",
   "version": "3.11.5"
  }
 },
 "nbformat": 4,
 "nbformat_minor": 5
}
